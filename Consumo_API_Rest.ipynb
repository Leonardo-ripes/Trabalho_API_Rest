{
 "cells": [
  {
   "cell_type": "markdown",
   "metadata": {},
   "source": [
    "## **Consumindo API**"
   ]
  },
  {
   "cell_type": "code",
   "execution_count": 3,
   "metadata": {},
   "outputs": [],
   "source": [
    "import requests"
   ]
  },
  {
   "cell_type": "markdown",
   "metadata": {},
   "source": [
    "### **Consumo GET**\n",
    "\n",
    "A API permite que sejam realizadas consultas a base de dados a partir dos seguintes atributos:\n",
    "\n",
    "- Todos os filmes e suas informações --> http://localhost:5000/movies\n",
    "- Listagem de Diretores --> http://localhost:5000/director\n",
    "- Filmes por Id --> http://localhost:5000/movies/id/{id}\n",
    "- FIlmes por Diretor --> http://localhost:5000//movies/director/{name}\n",
    "- Filmes por Ano de Lancamento --> http://localhost:5000/movies/release_year/{year}\n",
    "\n",
    "Obs: Os Elementos que estão entre **chaves** devem ser especificados pelo usuário na URL do recurso.({id}: s10, {name}:\"Quentin Tarantino\", {year}: 2021)"
   ]
  },
  {
   "cell_type": "code",
   "execution_count": null,
   "metadata": {},
   "outputs": [],
   "source": [
    "url = \"http://localhost:5000/movies\"\n"
   ]
  },
  {
   "cell_type": "markdown",
   "metadata": {},
   "source": [
    "### **Consumo POST**\n",
    "\n",
    "Para realizar um post, os dados devem estar estruturados em um json, contendo valores válidos para as seguintes chaves:\n",
    "\n",
    "- show_id\n",
    "- type\n",
    "- title\n",
    "- director\n",
    "- cast\n",
    "- country\n",
    "- date_added\n",
    "- release_year\n",
    "- rating\n",
    "- duration\n",
    "- listed_in\n",
    "- description"
   ]
  },
  {
   "cell_type": "code",
   "execution_count": null,
   "metadata": {},
   "outputs": [],
   "source": []
  },
  {
   "cell_type": "markdown",
   "metadata": {},
   "source": [
    "### **Consumo PATCH**"
   ]
  },
  {
   "cell_type": "code",
   "execution_count": null,
   "metadata": {},
   "outputs": [],
   "source": []
  },
  {
   "cell_type": "markdown",
   "metadata": {},
   "source": [
    "### **Consumo DELETE**\n",
    "É possível deletar um filme da base de dados a partir do id do Filme que se deseja excluir, ele deve ser informado na URL do recurso."
   ]
  },
  {
   "cell_type": "code",
   "execution_count": null,
   "metadata": {},
   "outputs": [],
   "source": []
  },
  {
   "cell_type": "code",
   "execution_count": null,
   "metadata": {},
   "outputs": [],
   "source": [
    "display(df)"
   ]
  },
  {
   "cell_type": "code",
   "execution_count": null,
   "metadata": {},
   "outputs": [],
   "source": [
    "df.columns.values.tolist()"
   ]
  },
  {
   "cell_type": "code",
   "execution_count": null,
   "metadata": {},
   "outputs": [],
   "source": [
    "df['listed_in'].unique()"
   ]
  },
  {
   "cell_type": "code",
   "execution_count": null,
   "metadata": {},
   "outputs": [],
   "source": [
    "df['director'].unique()"
   ]
  },
  {
   "cell_type": "code",
   "execution_count": null,
   "metadata": {},
   "outputs": [],
   "source": [
    "# Filter rows where 'Action' is in the 'listed_in' column\n",
    "action_movies = df[df['listed_in'].str.lower().contains('dsadsadassad'.lower())]\n",
    "action_movies"
   ]
  },
  {
   "cell_type": "code",
   "execution_count": null,
   "metadata": {},
   "outputs": [],
   "source": [
    "# convert a string to lowercase\n",
    "df['listed_in'] = df['listed_in'].str.lower()"
   ]
  },
  {
   "cell_type": "code",
   "execution_count": null,
   "metadata": {},
   "outputs": [],
   "source": [
    "genero = \"action\"\n",
    "\n",
    "action_movies = df[df['listed_in'].str.contains(genero.capitalize())]\n",
    "if action_movies['show_id'].count() == 0:\n",
    "    print(\"Não há filmes de ação\")\n",
    "    \n",
    "else:\n",
    "    print(\"Há filmes de ação\")"
   ]
  },
  {
   "cell_type": "code",
   "execution_count": null,
   "metadata": {},
   "outputs": [],
   "source": []
  },
  {
   "cell_type": "code",
   "execution_count": null,
   "metadata": {},
   "outputs": [],
   "source": []
  }
 ],
 "metadata": {
  "kernelspec": {
   "display_name": "Python 3",
   "language": "python",
   "name": "python3"
  },
  "language_info": {
   "codemirror_mode": {
    "name": "ipython",
    "version": 3
   },
   "file_extension": ".py",
   "mimetype": "text/x-python",
   "name": "python",
   "nbconvert_exporter": "python",
   "pygments_lexer": "ipython3",
   "version": "3.8.18"
  },
  "orig_nbformat": 4
 },
 "nbformat": 4,
 "nbformat_minor": 2
}
